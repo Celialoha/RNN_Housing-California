{
 "cells": [
  {
   "cell_type": "code",
   "execution_count": 14,
   "metadata": {},
   "outputs": [],
   "source": [
    "import matplotlib as mpl\n",
    "import matplotlib.pyplot as plt\n",
    "import numpy as np\n",
    "import os\n",
    "import pandas as pd\n",
    "import sklearn\n",
    "import sys\n",
    "import tensorflow as tf\n",
    "from tensorflow import keras\n",
    "import time\n",
    "\n",
    "from sklearn.datasets import fetch_california_housing\n",
    "\n",
    "from sklearn.model_selection import train_test_split\n",
    "from sklearn.preprocessing import StandardScaler\n",
    "from sklearn.model_selection import cross_val_score\n",
    "from sklearn import metrics \n",
    "from sklearn.linear_model import LinearRegression\n",
    "from sklearn.model_selection import KFold\n",
    "\n",
    "from keras.models import Sequential\n",
    "from keras.layers import Dense\n",
    "from keras.wrappers.scikit_learn import KerasRegressor\n",
    "from keras import optimizers"
   ]
  },
  {
   "cell_type": "code",
   "execution_count": 15,
   "metadata": {},
   "outputs": [],
   "source": [
    "housecal = fetch_california_housing()"
   ]
  },
  {
   "cell_type": "code",
   "execution_count": 16,
   "metadata": {},
   "outputs": [
    {
     "data": {
      "text/plain": [
       "{'data': array([[   8.3252    ,   41.        ,    6.98412698, ...,    2.55555556,\n",
       "           37.88      , -122.23      ],\n",
       "        [   8.3014    ,   21.        ,    6.23813708, ...,    2.10984183,\n",
       "           37.86      , -122.22      ],\n",
       "        [   7.2574    ,   52.        ,    8.28813559, ...,    2.80225989,\n",
       "           37.85      , -122.24      ],\n",
       "        ...,\n",
       "        [   1.7       ,   17.        ,    5.20554273, ...,    2.3256351 ,\n",
       "           39.43      , -121.22      ],\n",
       "        [   1.8672    ,   18.        ,    5.32951289, ...,    2.12320917,\n",
       "           39.43      , -121.32      ],\n",
       "        [   2.3886    ,   16.        ,    5.25471698, ...,    2.61698113,\n",
       "           39.37      , -121.24      ]]),\n",
       " 'target': array([4.526, 3.585, 3.521, ..., 0.923, 0.847, 0.894]),\n",
       " 'feature_names': ['MedInc',\n",
       "  'HouseAge',\n",
       "  'AveRooms',\n",
       "  'AveBedrms',\n",
       "  'Population',\n",
       "  'AveOccup',\n",
       "  'Latitude',\n",
       "  'Longitude'],\n",
       " 'DESCR': '.. _california_housing_dataset:\\n\\nCalifornia Housing dataset\\n--------------------------\\n\\n**Data Set Characteristics:**\\n\\n    :Number of Instances: 20640\\n\\n    :Number of Attributes: 8 numeric, predictive attributes and the target\\n\\n    :Attribute Information:\\n        - MedInc        median income in block\\n        - HouseAge      median house age in block\\n        - AveRooms      average number of rooms\\n        - AveBedrms     average number of bedrooms\\n        - Population    block population\\n        - AveOccup      average house occupancy\\n        - Latitude      house block latitude\\n        - Longitude     house block longitude\\n\\n    :Missing Attribute Values: None\\n\\nThis dataset was obtained from the StatLib repository.\\nhttp://lib.stat.cmu.edu/datasets/\\n\\nThe target variable is the median house value for California districts.\\n\\nThis dataset was derived from the 1990 U.S. census, using one row per census\\nblock group. A block group is the smallest geographical unit for which the U.S.\\nCensus Bureau publishes sample data (a block group typically has a population\\nof 600 to 3,000 people).\\n\\nIt can be downloaded/loaded using the\\n:func:`sklearn.datasets.fetch_california_housing` function.\\n\\n.. topic:: References\\n\\n    - Pace, R. Kelley and Ronald Barry, Sparse Spatial Autoregressions,\\n      Statistics and Probability Letters, 33 (1997) 291-297\\n'}"
      ]
     },
     "execution_count": 16,
     "metadata": {},
     "output_type": "execute_result"
    }
   ],
   "source": [
    "housecal"
   ]
  },
  {
   "cell_type": "code",
   "execution_count": 17,
   "metadata": {},
   "outputs": [
    {
     "data": {
      "text/plain": [
       "dict_keys(['data', 'target', 'feature_names', 'DESCR'])"
      ]
     },
     "execution_count": 17,
     "metadata": {},
     "output_type": "execute_result"
    }
   ],
   "source": [
    "housecal.keys()"
   ]
  },
  {
   "cell_type": "code",
   "execution_count": 18,
   "metadata": {},
   "outputs": [
    {
     "name": "stdout",
     "output_type": "stream",
     "text": [
      ".. _california_housing_dataset:\n",
      "\n",
      "California Housing dataset\n",
      "--------------------------\n",
      "\n",
      "**Data Set Characteristics:**\n",
      "\n",
      "    :Number of Instances: 20640\n",
      "\n",
      "    :Number of Attributes: 8 numeric, predictive attributes and the target\n",
      "\n",
      "    :Attribute Information:\n",
      "        - MedInc        median income in block\n",
      "        - HouseAge      median house age in block\n",
      "        - AveRooms      average number of rooms\n",
      "        - AveBedrms     average number of bedrooms\n",
      "        - Population    block population\n",
      "        - AveOccup      average house occupancy\n",
      "        - Latitude      house block latitude\n",
      "        - Longitude     house block longitude\n",
      "\n",
      "    :Missing Attribute Values: None\n",
      "\n",
      "This dataset was obtained from the StatLib repository.\n",
      "http://lib.stat.cmu.edu/datasets/\n",
      "\n",
      "The target variable is the median house value for California districts.\n",
      "\n",
      "This dataset was derived from the 1990 U.S. census, using one row per census\n",
      "block group. A block group is the smallest geographical unit for which the U.S.\n",
      "Census Bureau publishes sample data (a block group typically has a population\n",
      "of 600 to 3,000 people).\n",
      "\n",
      "It can be downloaded/loaded using the\n",
      ":func:`sklearn.datasets.fetch_california_housing` function.\n",
      "\n",
      ".. topic:: References\n",
      "\n",
      "    - Pace, R. Kelley and Ronald Barry, Sparse Spatial Autoregressions,\n",
      "      Statistics and Probability Letters, 33 (1997) 291-297\n",
      "\n"
     ]
    }
   ],
   "source": [
    "print(housecal.DESCR)"
   ]
  },
  {
   "cell_type": "code",
   "execution_count": 19,
   "metadata": {},
   "outputs": [
    {
     "data": {
      "text/html": [
       "<div>\n",
       "<style scoped>\n",
       "    .dataframe tbody tr th:only-of-type {\n",
       "        vertical-align: middle;\n",
       "    }\n",
       "\n",
       "    .dataframe tbody tr th {\n",
       "        vertical-align: top;\n",
       "    }\n",
       "\n",
       "    .dataframe thead th {\n",
       "        text-align: right;\n",
       "    }\n",
       "</style>\n",
       "<table border=\"1\" class=\"dataframe\">\n",
       "  <thead>\n",
       "    <tr style=\"text-align: right;\">\n",
       "      <th></th>\n",
       "      <th>MedInc</th>\n",
       "      <th>HouseAge</th>\n",
       "      <th>AveRooms</th>\n",
       "      <th>AveBedrms</th>\n",
       "      <th>Population</th>\n",
       "      <th>AveOccup</th>\n",
       "      <th>Latitude</th>\n",
       "      <th>Longitude</th>\n",
       "      <th>target</th>\n",
       "    </tr>\n",
       "  </thead>\n",
       "  <tbody>\n",
       "    <tr>\n",
       "      <th>0</th>\n",
       "      <td>8.3252</td>\n",
       "      <td>41.0</td>\n",
       "      <td>6.984127</td>\n",
       "      <td>1.023810</td>\n",
       "      <td>322.0</td>\n",
       "      <td>2.555556</td>\n",
       "      <td>37.88</td>\n",
       "      <td>-122.23</td>\n",
       "      <td>4.526</td>\n",
       "    </tr>\n",
       "    <tr>\n",
       "      <th>1</th>\n",
       "      <td>8.3014</td>\n",
       "      <td>21.0</td>\n",
       "      <td>6.238137</td>\n",
       "      <td>0.971880</td>\n",
       "      <td>2401.0</td>\n",
       "      <td>2.109842</td>\n",
       "      <td>37.86</td>\n",
       "      <td>-122.22</td>\n",
       "      <td>3.585</td>\n",
       "    </tr>\n",
       "    <tr>\n",
       "      <th>2</th>\n",
       "      <td>7.2574</td>\n",
       "      <td>52.0</td>\n",
       "      <td>8.288136</td>\n",
       "      <td>1.073446</td>\n",
       "      <td>496.0</td>\n",
       "      <td>2.802260</td>\n",
       "      <td>37.85</td>\n",
       "      <td>-122.24</td>\n",
       "      <td>3.521</td>\n",
       "    </tr>\n",
       "    <tr>\n",
       "      <th>3</th>\n",
       "      <td>5.6431</td>\n",
       "      <td>52.0</td>\n",
       "      <td>5.817352</td>\n",
       "      <td>1.073059</td>\n",
       "      <td>558.0</td>\n",
       "      <td>2.547945</td>\n",
       "      <td>37.85</td>\n",
       "      <td>-122.25</td>\n",
       "      <td>3.413</td>\n",
       "    </tr>\n",
       "    <tr>\n",
       "      <th>4</th>\n",
       "      <td>3.8462</td>\n",
       "      <td>52.0</td>\n",
       "      <td>6.281853</td>\n",
       "      <td>1.081081</td>\n",
       "      <td>565.0</td>\n",
       "      <td>2.181467</td>\n",
       "      <td>37.85</td>\n",
       "      <td>-122.25</td>\n",
       "      <td>3.422</td>\n",
       "    </tr>\n",
       "  </tbody>\n",
       "</table>\n",
       "</div>"
      ],
      "text/plain": [
       "   MedInc  HouseAge  AveRooms  AveBedrms  Population  AveOccup  Latitude  \\\n",
       "0  8.3252      41.0  6.984127   1.023810       322.0  2.555556     37.88   \n",
       "1  8.3014      21.0  6.238137   0.971880      2401.0  2.109842     37.86   \n",
       "2  7.2574      52.0  8.288136   1.073446       496.0  2.802260     37.85   \n",
       "3  5.6431      52.0  5.817352   1.073059       558.0  2.547945     37.85   \n",
       "4  3.8462      52.0  6.281853   1.081081       565.0  2.181467     37.85   \n",
       "\n",
       "   Longitude  target  \n",
       "0    -122.23   4.526  \n",
       "1    -122.22   3.585  \n",
       "2    -122.24   3.521  \n",
       "3    -122.25   3.413  \n",
       "4    -122.25   3.422  "
      ]
     },
     "execution_count": 19,
     "metadata": {},
     "output_type": "execute_result"
    }
   ],
   "source": [
    "housecal = pd.DataFrame(data = fetch_california_housing().data, columns =fetch_california_housing().feature_names )\n",
    "housecal['target'] = fetch_california_housing().target\n",
    "housecal.head()"
   ]
  },
  {
   "cell_type": "markdown",
   "metadata": {},
   "source": [
    "# Réseau Dense"
   ]
  },
  {
   "cell_type": "code",
   "execution_count": 20,
   "metadata": {},
   "outputs": [],
   "source": [
    "# X_train, X_test, y_train, y_test = train_test_split(housecal.values, housecal.target,\n",
    "#                                                    test_size=0.20,\n",
    "#                                                    random_state=42,\n",
    "#                                                    shuffle=True)\n",
    "\n",
    "# X_train, X_valid, y_train, y_valid = train_test_split(X_train, y_train,\n",
    "#                                                    test_size=0.10,\n",
    "#                                                    shuffle=True)"
   ]
  },
  {
   "cell_type": "code",
   "execution_count": 21,
   "metadata": {},
   "outputs": [],
   "source": [
    "housecal = fetch_california_housing()\n",
    "X_train, X_test, y_train, y_test = train_test_split(housecal.data,housecal.target,test_size=0.2,random_state=1)\n",
    "scaler = StandardScaler()\n",
    "X_train = scaler.fit_transform(X_train)\n",
    "X_test = scaler.fit_transform(X_test)"
   ]
  },
  {
   "cell_type": "code",
   "execution_count": 23,
   "metadata": {},
   "outputs": [],
   "source": [
    "# scaler = StandardScaler()\n",
    "\n",
    "# X_trains = scaler.fit_transform(X_train)\n",
    "# X_tests = scaler.transform(X_test)\n",
    "# X_valids = scaler.transform(X_valid)"
   ]
  },
  {
   "cell_type": "code",
   "execution_count": 24,
   "metadata": {},
   "outputs": [],
   "source": [
    "model = Sequential()\n",
    "model.add(Dense(13, activation='relu'))\n",
    "model.add(Dense(13, activation='relu'))\n",
    "\n",
    "model.add(Dense(1, activation='linear'))\n",
    "learning_rate=1e-4\n",
    "\n",
    "# Compile model\n",
    "model.compile(loss='mse', optimizer='adam', metrics=['mse'])"
   ]
  },
  {
   "cell_type": "code",
   "execution_count": 25,
   "metadata": {},
   "outputs": [],
   "source": [
    "#sgd_optimizer = optimizers.SGD(lr=0.001, decay=1e-7, momentum=.9)\n",
    "\n",
    "#model.compile(optimizer=sgd_optimizer, loss='categorical_crossentropy')"
   ]
  },
  {
   "cell_type": "code",
   "execution_count": 26,
   "metadata": {},
   "outputs": [
    {
     "name": "stdout",
     "output_type": "stream",
     "text": [
      "Train on 13209 samples, validate on 3303 samples\n",
      "Epoch 1/20\n",
      " - 1s - loss: 2.2186 - mean_squared_error: 2.2186 - val_loss: 0.7965 - val_mean_squared_error: 0.7965\n",
      "Epoch 2/20\n",
      " - 0s - loss: 0.7494 - mean_squared_error: 0.7494 - val_loss: 0.6343 - val_mean_squared_error: 0.6343\n",
      "Epoch 3/20\n",
      " - 0s - loss: 0.5872 - mean_squared_error: 0.5872 - val_loss: 0.5428 - val_mean_squared_error: 0.5428\n",
      "Epoch 4/20\n",
      " - 0s - loss: 0.4961 - mean_squared_error: 0.4961 - val_loss: 0.5078 - val_mean_squared_error: 0.5078\n",
      "Epoch 5/20\n",
      " - 0s - loss: 0.4519 - mean_squared_error: 0.4519 - val_loss: 0.4633 - val_mean_squared_error: 0.4633\n",
      "Epoch 6/20\n",
      " - 0s - loss: 0.4282 - mean_squared_error: 0.4282 - val_loss: 0.4404 - val_mean_squared_error: 0.4404\n",
      "Epoch 7/20\n",
      " - 0s - loss: 0.4123 - mean_squared_error: 0.4123 - val_loss: 0.4256 - val_mean_squared_error: 0.4256\n",
      "Epoch 8/20\n",
      " - 0s - loss: 0.4034 - mean_squared_error: 0.4034 - val_loss: 0.4167 - val_mean_squared_error: 0.4167\n",
      "Epoch 9/20\n",
      " - 0s - loss: 0.3933 - mean_squared_error: 0.3933 - val_loss: 0.4104 - val_mean_squared_error: 0.4104\n",
      "Epoch 10/20\n",
      " - 0s - loss: 0.3895 - mean_squared_error: 0.3895 - val_loss: 0.4080 - val_mean_squared_error: 0.4080\n",
      "Epoch 11/20\n",
      " - 0s - loss: 0.3825 - mean_squared_error: 0.3825 - val_loss: 0.3988 - val_mean_squared_error: 0.3988\n",
      "Epoch 12/20\n",
      " - 0s - loss: 0.3807 - mean_squared_error: 0.3807 - val_loss: 0.4336 - val_mean_squared_error: 0.4336\n",
      "Epoch 13/20\n",
      " - 0s - loss: 0.3752 - mean_squared_error: 0.3752 - val_loss: 0.3963 - val_mean_squared_error: 0.3963\n",
      "Epoch 14/20\n",
      " - 0s - loss: 0.3690 - mean_squared_error: 0.3690 - val_loss: 0.4133 - val_mean_squared_error: 0.4133\n",
      "Epoch 15/20\n",
      " - 0s - loss: 0.3659 - mean_squared_error: 0.3659 - val_loss: 0.3881 - val_mean_squared_error: 0.3881\n",
      "Epoch 16/20\n",
      " - 0s - loss: 0.3654 - mean_squared_error: 0.3654 - val_loss: 0.3843 - val_mean_squared_error: 0.3843\n",
      "Epoch 17/20\n",
      " - 0s - loss: 0.3580 - mean_squared_error: 0.3580 - val_loss: 0.3830 - val_mean_squared_error: 0.3830\n",
      "Epoch 18/20\n",
      " - 0s - loss: 0.3539 - mean_squared_error: 0.3539 - val_loss: 0.3771 - val_mean_squared_error: 0.3771\n",
      "Epoch 19/20\n",
      " - 0s - loss: 0.3503 - mean_squared_error: 0.3503 - val_loss: 0.3789 - val_mean_squared_error: 0.3789\n",
      "Epoch 20/20\n",
      " - 0s - loss: 0.3479 - mean_squared_error: 0.3479 - val_loss: 0.3737 - val_mean_squared_error: 0.3737\n"
     ]
    }
   ],
   "source": [
    "history = model.fit(X_train, y_train, epochs=20, batch_size=50,  verbose=2, validation_split=0.2)"
   ]
  },
  {
   "cell_type": "code",
   "execution_count": 27,
   "metadata": {},
   "outputs": [
    {
     "name": "stdout",
     "output_type": "stream",
     "text": [
      "4128/4128 [==============================] - 0s 5us/step\n"
     ]
    }
   ],
   "source": [
    "#The evaluate method calculates the losses and metrics\n",
    "#     for the trained model\n",
    "loss_and_metrics = model.evaluate(X_test, y_test, batch_size=128)"
   ]
  },
  {
   "cell_type": "code",
   "execution_count": 28,
   "metadata": {},
   "outputs": [],
   "source": [
    "# #The predict method applies the trained model to inputs\n",
    "# #     to generate outputs\n",
    "# classes = model.predict(X_test, batch_size=128)"
   ]
  },
  {
   "cell_type": "code",
   "execution_count": 11,
   "metadata": {},
   "outputs": [],
   "source": [
    "# seed = 7\n",
    "# np.random.seed(seed)\n",
    "# # evaluate model with standardized dataset\n",
    "# estimator = KerasRegressor(build_fn=model, epochs=10, batch_size=5, verbose=0)"
   ]
  },
  {
   "cell_type": "code",
   "execution_count": 11,
   "metadata": {},
   "outputs": [],
   "source": [
    "#kfold = KFold(n_splits=10, random_state=seed)\n",
    "#results = cross_val_score(estimator, X, Y, cv=kfold)\n",
    "#print(\"Results: %.2f (%.2f) MSE\" % (results.mean(), results.std()))"
   ]
  },
  {
   "cell_type": "markdown",
   "metadata": {},
   "source": [
    "#  Neural Network Regressor"
   ]
  },
  {
   "cell_type": "code",
   "execution_count": 29,
   "metadata": {},
   "outputs": [],
   "source": [
    "def build_regressor():\n",
    "    regressor = Sequential()\n",
    "    regressor.add(Dense(8, input_dim=8))\n",
    "    regressor.add(Dense(1))\n",
    "    regressor.compile(optimizer='adam', loss='mean_squared_error',  metrics=['mse'])\n",
    "    return regressor"
   ]
  },
  {
   "cell_type": "code",
   "execution_count": 30,
   "metadata": {},
   "outputs": [],
   "source": [
    "from keras.wrappers.scikit_learn import KerasRegressor\n",
    "regressor = KerasRegressor(build_fn=build_regressor, batch_size=32,epochs=100,verbose=2)"
   ]
  },
  {
   "cell_type": "code",
   "execution_count": 31,
   "metadata": {},
   "outputs": [
    {
     "name": "stdout",
     "output_type": "stream",
     "text": [
      "Epoch 1/100\n",
      " - 1s - loss: 3.1442 - mean_squared_error: 3.1442\n",
      "Epoch 2/100\n",
      " - 0s - loss: 0.8625 - mean_squared_error: 0.8625\n",
      "Epoch 3/100\n",
      " - 0s - loss: 0.6787 - mean_squared_error: 0.6787\n",
      "Epoch 4/100\n",
      " - 0s - loss: 0.5974 - mean_squared_error: 0.5974\n",
      "Epoch 5/100\n",
      " - 0s - loss: 0.5551 - mean_squared_error: 0.5551\n",
      "Epoch 6/100\n",
      " - 0s - loss: 0.5396 - mean_squared_error: 0.5396\n",
      "Epoch 7/100\n",
      " - 0s - loss: 0.5319 - mean_squared_error: 0.5319\n",
      "Epoch 8/100\n",
      " - 0s - loss: 0.5310 - mean_squared_error: 0.5310\n",
      "Epoch 9/100\n",
      " - 0s - loss: 0.5281 - mean_squared_error: 0.5281\n",
      "Epoch 10/100\n",
      " - 0s - loss: 0.5301 - mean_squared_error: 0.5301\n",
      "Epoch 11/100\n",
      " - 0s - loss: 0.5278 - mean_squared_error: 0.5278\n",
      "Epoch 12/100\n",
      " - 0s - loss: 0.5303 - mean_squared_error: 0.5303\n",
      "Epoch 13/100\n",
      " - 0s - loss: 0.5303 - mean_squared_error: 0.5303\n",
      "Epoch 14/100\n",
      " - 0s - loss: 0.5309 - mean_squared_error: 0.5309\n",
      "Epoch 15/100\n",
      " - 0s - loss: 0.5310 - mean_squared_error: 0.5310\n",
      "Epoch 16/100\n",
      " - 0s - loss: 0.5281 - mean_squared_error: 0.5281\n",
      "Epoch 17/100\n",
      " - 0s - loss: 0.5284 - mean_squared_error: 0.5284\n",
      "Epoch 18/100\n",
      " - 0s - loss: 0.5271 - mean_squared_error: 0.5271\n",
      "Epoch 19/100\n",
      " - 0s - loss: 0.5325 - mean_squared_error: 0.5325\n",
      "Epoch 20/100\n",
      " - 0s - loss: 0.5313 - mean_squared_error: 0.5313\n",
      "Epoch 21/100\n",
      " - 0s - loss: 0.5294 - mean_squared_error: 0.5294\n",
      "Epoch 22/100\n",
      " - 0s - loss: 0.5323 - mean_squared_error: 0.5323\n",
      "Epoch 23/100\n",
      " - 0s - loss: 0.5352 - mean_squared_error: 0.5352\n",
      "Epoch 24/100\n",
      " - 0s - loss: 0.5296 - mean_squared_error: 0.5296\n",
      "Epoch 25/100\n",
      " - 0s - loss: 0.5283 - mean_squared_error: 0.5283\n",
      "Epoch 26/100\n",
      " - 0s - loss: 0.5286 - mean_squared_error: 0.5286\n",
      "Epoch 27/100\n",
      " - 0s - loss: 0.5315 - mean_squared_error: 0.5315\n",
      "Epoch 28/100\n",
      " - 0s - loss: 0.5310 - mean_squared_error: 0.5310\n",
      "Epoch 29/100\n",
      " - 0s - loss: 0.5321 - mean_squared_error: 0.5321\n",
      "Epoch 30/100\n",
      " - 0s - loss: 0.5294 - mean_squared_error: 0.5294\n",
      "Epoch 31/100\n",
      " - 0s - loss: 0.5309 - mean_squared_error: 0.5309\n",
      "Epoch 32/100\n",
      " - 0s - loss: 0.5319 - mean_squared_error: 0.5319\n",
      "Epoch 33/100\n",
      " - 0s - loss: 0.5301 - mean_squared_error: 0.5301\n",
      "Epoch 34/100\n",
      " - 0s - loss: 0.5301 - mean_squared_error: 0.5301\n",
      "Epoch 35/100\n",
      " - 0s - loss: 0.5276 - mean_squared_error: 0.5276\n",
      "Epoch 36/100\n",
      " - 0s - loss: 0.5300 - mean_squared_error: 0.5300\n",
      "Epoch 37/100\n",
      " - 0s - loss: 0.5325 - mean_squared_error: 0.5325\n",
      "Epoch 38/100\n",
      " - 0s - loss: 0.5309 - mean_squared_error: 0.5309\n",
      "Epoch 39/100\n",
      " - 0s - loss: 0.5311 - mean_squared_error: 0.5311\n",
      "Epoch 40/100\n",
      " - 0s - loss: 0.5273 - mean_squared_error: 0.5273\n",
      "Epoch 41/100\n",
      " - 0s - loss: 0.5308 - mean_squared_error: 0.5308\n",
      "Epoch 42/100\n",
      " - 0s - loss: 0.5307 - mean_squared_error: 0.5307\n",
      "Epoch 43/100\n",
      " - 0s - loss: 0.5261 - mean_squared_error: 0.5261\n",
      "Epoch 44/100\n",
      " - 0s - loss: 0.5346 - mean_squared_error: 0.5346\n",
      "Epoch 45/100\n",
      " - 0s - loss: 0.5268 - mean_squared_error: 0.5268\n",
      "Epoch 46/100\n",
      " - 0s - loss: 0.5301 - mean_squared_error: 0.5301\n",
      "Epoch 47/100\n",
      " - 0s - loss: 0.5330 - mean_squared_error: 0.5330\n",
      "Epoch 48/100\n",
      " - 0s - loss: 0.5282 - mean_squared_error: 0.5282\n",
      "Epoch 49/100\n",
      " - 0s - loss: 0.5286 - mean_squared_error: 0.5286\n",
      "Epoch 50/100\n",
      " - 0s - loss: 0.5298 - mean_squared_error: 0.5298\n",
      "Epoch 51/100\n",
      " - 0s - loss: 0.5316 - mean_squared_error: 0.5316\n",
      "Epoch 52/100\n",
      " - 0s - loss: 0.5306 - mean_squared_error: 0.5306\n",
      "Epoch 53/100\n",
      " - 0s - loss: 0.5311 - mean_squared_error: 0.5311\n",
      "Epoch 54/100\n",
      " - 0s - loss: 0.5308 - mean_squared_error: 0.5308\n",
      "Epoch 55/100\n",
      " - 0s - loss: 0.5310 - mean_squared_error: 0.5310\n",
      "Epoch 56/100\n",
      " - 0s - loss: 0.5273 - mean_squared_error: 0.5273\n",
      "Epoch 57/100\n",
      " - 0s - loss: 0.5300 - mean_squared_error: 0.5300\n",
      "Epoch 58/100\n",
      " - 0s - loss: 0.5282 - mean_squared_error: 0.5282\n",
      "Epoch 59/100\n",
      " - 0s - loss: 0.5364 - mean_squared_error: 0.5364\n",
      "Epoch 60/100\n",
      " - 0s - loss: 0.5289 - mean_squared_error: 0.5289\n",
      "Epoch 61/100\n",
      " - 0s - loss: 0.5299 - mean_squared_error: 0.5299\n",
      "Epoch 62/100\n",
      " - 0s - loss: 0.5304 - mean_squared_error: 0.5304\n",
      "Epoch 63/100\n",
      " - 0s - loss: 0.5292 - mean_squared_error: 0.5292\n",
      "Epoch 64/100\n",
      " - 0s - loss: 0.5295 - mean_squared_error: 0.5295\n",
      "Epoch 65/100\n",
      " - 0s - loss: 0.5303 - mean_squared_error: 0.5303\n",
      "Epoch 66/100\n",
      " - 0s - loss: 0.5348 - mean_squared_error: 0.5348\n",
      "Epoch 67/100\n",
      " - 0s - loss: 0.5290 - mean_squared_error: 0.5290\n",
      "Epoch 68/100\n",
      " - 0s - loss: 0.5290 - mean_squared_error: 0.5290\n",
      "Epoch 69/100\n",
      " - 0s - loss: 0.5326 - mean_squared_error: 0.5326\n",
      "Epoch 70/100\n",
      " - 0s - loss: 0.5283 - mean_squared_error: 0.5283\n",
      "Epoch 71/100\n",
      " - 0s - loss: 0.5299 - mean_squared_error: 0.5299\n",
      "Epoch 72/100\n",
      " - 0s - loss: 0.5290 - mean_squared_error: 0.5290\n",
      "Epoch 73/100\n",
      " - 0s - loss: 0.5304 - mean_squared_error: 0.5304\n",
      "Epoch 74/100\n",
      " - 0s - loss: 0.5290 - mean_squared_error: 0.5290\n",
      "Epoch 75/100\n",
      " - 0s - loss: 0.5287 - mean_squared_error: 0.5287\n",
      "Epoch 76/100\n",
      " - 0s - loss: 0.5311 - mean_squared_error: 0.5311\n",
      "Epoch 77/100\n",
      " - 0s - loss: 0.5305 - mean_squared_error: 0.5305\n",
      "Epoch 78/100\n",
      " - 0s - loss: 0.5290 - mean_squared_error: 0.5290\n",
      "Epoch 79/100\n",
      " - 0s - loss: 0.5303 - mean_squared_error: 0.5303\n",
      "Epoch 80/100\n",
      " - 0s - loss: 0.5284 - mean_squared_error: 0.5284\n",
      "Epoch 81/100\n",
      " - 0s - loss: 0.5307 - mean_squared_error: 0.5307\n",
      "Epoch 82/100\n",
      " - 0s - loss: 0.5299 - mean_squared_error: 0.5299\n",
      "Epoch 83/100\n",
      " - 0s - loss: 0.5319 - mean_squared_error: 0.5319\n",
      "Epoch 84/100\n",
      " - 0s - loss: 0.5300 - mean_squared_error: 0.5300\n",
      "Epoch 85/100\n",
      " - 0s - loss: 0.5294 - mean_squared_error: 0.5294\n",
      "Epoch 86/100\n",
      " - 0s - loss: 0.5274 - mean_squared_error: 0.5274\n",
      "Epoch 87/100\n",
      " - 0s - loss: 0.5311 - mean_squared_error: 0.5311\n",
      "Epoch 88/100\n",
      " - 0s - loss: 0.5254 - mean_squared_error: 0.5254\n",
      "Epoch 89/100\n",
      " - 0s - loss: 0.5303 - mean_squared_error: 0.5303\n",
      "Epoch 90/100\n",
      " - 0s - loss: 0.5289 - mean_squared_error: 0.5289\n",
      "Epoch 91/100\n",
      " - 0s - loss: 0.5269 - mean_squared_error: 0.5269\n",
      "Epoch 92/100\n",
      " - 0s - loss: 0.5282 - mean_squared_error: 0.5282\n",
      "Epoch 93/100\n",
      " - 0s - loss: 0.5293 - mean_squared_error: 0.5293\n",
      "Epoch 94/100\n",
      " - 0s - loss: 0.5333 - mean_squared_error: 0.5333\n",
      "Epoch 95/100\n",
      " - 0s - loss: 0.5299 - mean_squared_error: 0.5299\n",
      "Epoch 96/100\n",
      " - 0s - loss: 0.5278 - mean_squared_error: 0.5278\n",
      "Epoch 97/100\n",
      " - 0s - loss: 0.5305 - mean_squared_error: 0.5305\n",
      "Epoch 98/100\n",
      " - 0s - loss: 0.5303 - mean_squared_error: 0.5303\n",
      "Epoch 99/100\n",
      " - 0s - loss: 0.5284 - mean_squared_error: 0.5284\n",
      "Epoch 100/100\n",
      " - 0s - loss: 0.5288 - mean_squared_error: 0.5288\n"
     ]
    }
   ],
   "source": [
    "results=regressor.fit(X_train,y_train)"
   ]
  },
  {
   "cell_type": "code",
   "execution_count": 32,
   "metadata": {},
   "outputs": [],
   "source": [
    "y_pred= regressor.predict(X_test)"
   ]
  },
  {
   "cell_type": "code",
   "execution_count": 36,
   "metadata": {},
   "outputs": [
    {
     "data": {
      "image/png": "[encoded data removed]",
      "text/plain": [
       "<Figure size 432x288 with 1 Axes>"
      ]
     },
     "metadata": {
      "needs_background": "light"
     },
     "output_type": "display_data"
    }
   ],
   "source": [
    "fig, ax = plt.subplots()\n",
    "ax.scatter(y_test, y_pred)\n",
    "ax.plot([y_test.min(), y_test.max()], [y_test.min(), y_test.max()], 'k--', lw=1)\n",
    "ax.set_xlabel('Mesuré')\n",
    "ax.set_ylabel('Prédit')\n",
    "plt.show()"
   ]
  },
  {
   "cell_type": "code",
   "execution_count": null,
   "metadata": {},
   "outputs": [],
   "source": []
  }
 ],
 "metadata": {
  "kernelspec": {
   "display_name": "Python 3",
   "language": "python",
   "name": "python3"
  },
  "language_info": {
   "codemirror_mode": {
    "name": "ipython",
    "version": 3
   },
   "file_extension": ".py",
   "mimetype": "text/x-python",
   "name": "python",
   "nbconvert_exporter": "python",
   "pygments_lexer": "ipython3",
   "version": "3.6.8"
  }
 },
 "nbformat": 4,
 "nbformat_minor": 2
}
